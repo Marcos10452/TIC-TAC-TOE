{
 "cells": [
  {
   "cell_type": "code",
   "execution_count": 9,
   "id": "f67f6275-6752-45a3-8671-3210c9569d6e",
   "metadata": {},
   "outputs": [],
   "source": [
    "from src.TIC_TAC_TOE import * \n",
    "import pandas as pd\n",
    "import numpy as np\n",
    "#def main(): \n",
    "\n",
    "    #window = tk.Tk()\n",
    "    #app = MainGUI(window)\n",
    "    #window.mainloop()\n",
    "############################################################\n"
   ]
  },
  {
   "cell_type": "code",
   "execution_count": 10,
   "id": "e3570a9e-010c-43f3-b975-cd07528fc15b",
   "metadata": {},
   "outputs": [],
   "source": [
    "############################################################\n",
    "# Policies\n",
    "def humanPolicy(game, state):\n",
    "    action2=[0,0]\n",
    "    while True:\n",
    "        print ('humanPolicy: Enter move:')\n",
    "        action2[0] = input('y row ').strip()\n",
    "        action2[1] = input('x column ').strip()\n",
    "        action2=list(map(int,action2))\n",
    "        if action2 in game.actions(state):\n",
    "            return action2\n",
    "        else:\n",
    "            print(\"ERROR, cell is already in use {} {}\" .format(action2[1],action2[0]))\n",
    "\n",
    "def minimaxPolicy(game, state):\n",
    "    print(\"Thinking...!! wait\")\n",
    "    def recurse(state):\n",
    "        # Return (utility of that state, action that achieves that utility)\n",
    "        TestEndGame=game.isEnd(state)\n",
    "        if TestEndGame==15:\n",
    "            player=-game.player(state)\n",
    "            state=player, state[1]\n",
    "            return (game.utility(state), None)\n",
    "        elif TestEndGame==-10:\n",
    "            player=0\n",
    "            state=player, state[1]\n",
    "            return (game.utility(state), None)\n",
    "                \n",
    "        # List of (utility of succ, action leading to that succ)\n",
    "        \n",
    "        candidates = [\n",
    "            (recurse(game.succ(state, action))[0], action)\n",
    "            for action in game.actions(state)]\n",
    "        #Agent player maximaice\n",
    "        player = game.player(state)\n",
    "        if player == +1:\n",
    "            return max(candidates)\n",
    "        #opponent player try to min agent's policy\n",
    "        elif player == -1:\n",
    "            return min(candidates)\n",
    "        assert False\n",
    "\n",
    "    utility, action = recurse(state)\n",
    "    print(\"DONE...\")\n",
    "    return action\n",
    "\n",
    "############################################################"
   ]
  },
  {
   "cell_type": "code",
   "execution_count": 12,
   "id": "a2db48e2-78e0-4658-b44a-3901b21521f2",
   "metadata": {},
   "outputs": [
    {
     "name": "stdout",
     "output_type": "stream",
     "text": [
      "- | - | -\n",
      "- | - | -\n",
      "- | - | -\n",
      "humanPolicy: Enter move:\n"
     ]
    },
    {
     "name": "stdin",
     "output_type": "stream",
     "text": [
      "y row  0\n",
      "x column  0\n"
     ]
    },
    {
     "name": "stdout",
     "output_type": "stream",
     "text": [
      "X | - | -\n",
      "- | - | -\n",
      "- | - | -\n",
      "Thinking...!! wait\n",
      "DONE...\n",
      "X | - | -\n",
      "- | O | -\n",
      "- | - | -\n",
      "humanPolicy: Enter move:\n"
     ]
    },
    {
     "name": "stdin",
     "output_type": "stream",
     "text": [
      "y row  1\n",
      "x column  0\n"
     ]
    },
    {
     "name": "stdout",
     "output_type": "stream",
     "text": [
      "X | - | -\n",
      "X | O | -\n",
      "- | - | -\n",
      "Thinking...!! wait\n",
      "DONE...\n",
      "X | - | -\n",
      "X | O | -\n",
      "O | - | -\n",
      "humanPolicy: Enter move:\n"
     ]
    },
    {
     "name": "stdin",
     "output_type": "stream",
     "text": [
      "y row  0\n",
      "x column  2\n"
     ]
    },
    {
     "name": "stdout",
     "output_type": "stream",
     "text": [
      "X | - | X\n",
      "X | O | -\n",
      "O | - | -\n",
      "Thinking...!! wait\n",
      "DONE...\n",
      "X | O | X\n",
      "X | O | -\n",
      "O | - | -\n",
      "humanPolicy: Enter move:\n"
     ]
    },
    {
     "name": "stdin",
     "output_type": "stream",
     "text": [
      "y row  2\n",
      "x column  2\n"
     ]
    },
    {
     "name": "stdout",
     "output_type": "stream",
     "text": [
      "X | O | X\n",
      "X | O | -\n",
      "O | - | X\n",
      "Thinking...!! wait\n",
      "DONE...\n",
      "X | O | X\n",
      "X | O | -\n",
      "O | O | X\n",
      "Player CPU has won !!!. Congratulation!\n"
     ]
    }
   ],
   "source": [
    "if __name__ == '__main__':\n",
    "    game = TicTacToe()\n",
    "    \n",
    "    policies = {+1: humanPolicy,-1: minimaxPolicy}\n",
    "    \n",
    "    state = game.startState()\n",
    "    \n",
    "    GameEnd=game.isEnd(state)\n",
    "    \n",
    "    while not GameEnd:\n",
    "        # Select player\n",
    "        player = game.player(state)\n",
    "        #Select policy depend on player 1 human or -1 CPU\n",
    "        policy = policies[player]\n",
    "        # Ask policy to make a move\n",
    "        action = policy(game, state)\n",
    "        # Advance state\n",
    "        state = game.succ(state, action)\n",
    "        #get new board state in state[1] due to game.succ\n",
    "        game.update_board(state[1])\n",
    "        GameEnd=game.isEnd(state)\n",
    "        \n",
    "    if GameEnd>0:  \n",
    "        if state[0]==-1:\n",
    "            player=\"HUMAN\"\n",
    "        elif state[0]==1:\n",
    "            player=\"CPU\"\n",
    "        print(\"Player {} has won !!!. Congratulation!\".format(player))\n",
    "    else:\n",
    "        print(\"TIE !!!!\")"
   ]
  },
  {
   "cell_type": "code",
   "execution_count": null,
   "id": "2d069f43-3dfd-483e-bd2a-1d82782ab436",
   "metadata": {},
   "outputs": [],
   "source": []
  }
 ],
 "metadata": {
  "kernelspec": {
   "display_name": "Python 3 (ipykernel)",
   "language": "python",
   "name": "python3"
  },
  "language_info": {
   "codemirror_mode": {
    "name": "ipython",
    "version": 3
   },
   "file_extension": ".py",
   "mimetype": "text/x-python",
   "name": "python",
   "nbconvert_exporter": "python",
   "pygments_lexer": "ipython3",
   "version": "3.10.12"
  }
 },
 "nbformat": 4,
 "nbformat_minor": 5
}
